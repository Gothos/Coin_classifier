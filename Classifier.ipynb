{
  "nbformat": 4,
  "nbformat_minor": 0,
  "metadata": {
    "colab": {
      "provenance": []
    },
    "kernelspec": {
      "name": "python3",
      "display_name": "Python 3"
    },
    "language_info": {
      "name": "python"
    }
  },
  "cells": [
    {
      "cell_type": "code",
      "execution_count": null,
      "metadata": {
        "id": "Uo2IfQ-Ug_sG"
      },
      "outputs": [],
      "source": [
        "import numpy as np # linear algebra\n",
        "import pandas as pd # data processing, CSV file I/O (e.g. pd.read_csv)\n",
        "import tensorflow as tf\n",
        "import json\n",
        "from tensorflow import keras\n",
        "from tensorflow.keras import layers\n",
        "from tensorflow.keras.layers import RandomContrast\n",
        "import numpy as np\n",
        "from PIL import Image\n",
        "\n",
        "from tensorflow.keras.preprocessing.image import img_to_array\n",
        "from sklearn.model_selection import train_test_split\n",
        "from tensorflow.keras.preprocessing.image import ImageDataGenerator\n",
        "import os"
      ]
    },
    {
      "cell_type": "code",
      "source": [
        "# Please reset the paths here to the training and test data",
        "train_path = '../input/currency-prediction-challenge/data/train' # train data\n",
        "test_path = '../input/currency-prediction-challenge/data/test'  # test data\n",
        "train_labels = pd.read_csv('../input/currency-prediction-challenge/data/train.csv') # training labels\n",
        "test_labels = pd.read_csv('../input/currency-prediction-challenge/data/test.csv')  # testing labels\n",
        "label_val=json.load(open('../input/currency-prediction-challenge/data/cat_to_name.json'))\n",
        "file=[]\n",
        "label=[]\n",
        "for ind in train_labels.index:\n",
        "    label.append(int(list(label_val.keys())[list(label_val.values()).index(train_labels['value'][ind]+','+train_labels['currency'][ind]+','+train_labels['country'][ind])]))\n",
        "for fil in sorted(os.listdir(train_path),key=lambda x: int(x.split(\".\")[0]) ):\n",
        "    img=Image.open(train_path+'/'+fil).resize((128,128))\n",
        "    img_dat1= np.array(img)\n",
        "    file.append(img_dat1/255)"
      ],
      "metadata": {
        "id": "EmYZS4lHhJap"
      },
      "execution_count": null,
      "outputs": []
    },
    {
      "cell_type": "code",
      "source": [
        "X_train,X_val,y_train,y_val=train_test_split(file,label,test_size=0.20,random_state=5)\n",
        "train=np.array(X_train)\n",
        "train_label=np.array(y_train,dtype = 'float32')\n",
        "del file\n",
        "del label"
      ],
      "metadata": {
        "id": "U55hCZN8hL4P"
      },
      "execution_count": null,
      "outputs": []
    },
    {
      "cell_type": "code",
      "source": [
        "val=np.array(X_val)\n",
        "val_label=np.array(y_val,dtype='float')\n",
        "del X_val\n",
        "del y_val"
      ],
      "metadata": {
        "id": "QO9xItYahNdx"
      },
      "execution_count": null,
      "outputs": []
    },
    {
      "cell_type": "code",
      "source": [
        "from keras.layers import GaussianNoise\n",
        "pretrained_model= tf.keras.applications.ResNet50(include_top=False,\n",
        "                   input_shape=(128,128,3),\n",
        "                   pooling='avg',classes=212,\n",
        "                   weights='imagenet')\n",
        "for layer in pretrained_model.layers:\n",
        "        layer.trainable=True\n",
        "resnet_model = keras.Sequential()\n",
        "resnet_model.add(layers.RandomContrast(0.2))\n",
        "resnet_model.add(pretrained_model)\n",
        "resnet_model.add(layers.Flatten())\n",
        "resnet_model.add(GaussianNoise(0.18))\n",
        "resnet_model.add(layers.BatchNormalization())\n",
        "resnet_model.add(layers.Dense(280, activation='relu',kernel_regularizer=keras.regularizers.L1(7e-4)))\n",
        "resnet_model.add(layers.Dense(212, activation='softmax',kernel_regularizer=keras.regularizers.L1(8e-5)))"
      ],
      "metadata": {
        "id": "tDJo7klchQ3U"
      },
      "execution_count": null,
      "outputs": []
    },
    {
      "cell_type": "code",
      "source": [
        "resnet_model.compile(optimizer=tf.keras.optimizers.Adam(learning_rate=4.5e-4),\n",
        "              loss = 'sparse_categorical_crossentropy',\n",
        "              metrics=['sparse_categorical_accuracy']\n",
        "              )\n",
        "resnet_model_checkpoint_callback = tf.keras.callbacks.ModelCheckpoint(\n",
        "    filepath='./Epochdat',\n",
        "    save_weights_only=True,\n",
        "    monitor='val_sparse_categorical_accuracy',\n",
        "    mode='max',\n",
        "    save_best_only=True)\n",
        "resnet_model.fit(train,train_label,batch_size=64, epochs=60, verbose=1,validation_data=(val,val_label),callbacks=[resnet_model_checkpoint_callback])"
      ],
      "metadata": {
        "id": "L4v8IoSMcU-I"
      },
      "execution_count": null,
      "outputs": []
    },
    {
      "cell_type": "code",
      "source": [
        "resnet_model.load_weights('./Epochdat')\n",
        "pred=[]\n",
        "name=[]\n",
        "pred_label=[]\n",
        "for f in sorted(os.listdir('../input/currency-prediction-challenge/data/test'),key=lambda x: int(x.split(\".\")[0]) ):\n",
        "    name.append(os.path.basename(f))\n",
        "    img=Image.open('../input/currency-prediction-challenge/data/test'+'/'+f).resize((128,128))\n",
        "    iml=np.array(img)/255\n",
        "    pred.append(iml)\n",
        "    prel=np.array(pred)\n",
        "    pred_label.append(np.argmax(resnet_model.predict(prel)))\n",
        "    pred.clear()"
      ],
      "metadata": {
        "id": "TqCUgVGShR9h"
      },
      "execution_count": null,
      "outputs": []
    },
    {
      "cell_type": "code",
      "source": [
        "submissions=pd.DataFrame({'label':pred_label},index=name)\n",
        "submissions = submissions.rename_axis('name')\n",
        "submissions.to_csv('submission.csv')\n",
        "submissions"
      ],
      "metadata": {
        "id": "oVuACEG-hVTY"
      },
      "execution_count": null,
      "outputs": []
    }
  ]
}
